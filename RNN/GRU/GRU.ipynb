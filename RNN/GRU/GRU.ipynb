{
  "nbformat": 4,
  "nbformat_minor": 0,
  "metadata": {
    "colab": {
      "name": "GRU.ipynb",
      "version": "0.3.2",
      "provenance": []
    },
    "kernelspec": {
      "name": "python3",
      "display_name": "Python 3"
    },
    "accelerator": "GPU"
  },
  "cells": [
    {
      "cell_type": "code",
      "metadata": {
        "id": "96PchIm2DbqN",
        "colab_type": "code",
        "colab": {}
      },
      "source": [
        "# from google.colab import files\n",
        "\n",
        "# files.upload()"
      ],
      "execution_count": 0,
      "outputs": []
    },
    {
      "cell_type": "code",
      "metadata": {
        "id": "B1uAagD4hfQV",
        "colab_type": "code",
        "colab": {}
      },
      "source": [
        "import pandas as pd\n",
        "import numpy as np\n",
        "import tensorflow as tf\n",
        "from tensorflow import keras\n",
        "from tensorflow.keras import layers\n",
        "from tensorflow.keras import backend\n",
        "\n",
        "data = pd.read_csv('TXF_data.csv', index_col = 'Time')\n",
        "\n",
        "data['ma5'] = data.Close.rolling(5).mean()\n",
        "data['ma10'] = data.Close.rolling(10).mean()\n",
        "data['ma15'] = data.Close.rolling(15).mean()\n",
        "data['ma20'] = data.Close.rolling(20).mean()\n",
        "data['ma40'] = data.Close.rolling(40).mean()\n",
        "data['ma60'] = data.Close.rolling(60).mean()\n",
        "\n",
        "_data = data.tail(-60)\n",
        "\n",
        "start = '2017-09-01'\n",
        "end = '2018-12-31'\n",
        "mask = (_data.index > start) & (_data.index <= end)\n",
        "df_train = _data.loc[mask]\n",
        "\n",
        "start = '2019-01-01'\n",
        "end = '2019-07-01'\n",
        "mask = (_data.index > start) & (_data.index <= end)\n",
        "df_test = _data.loc[mask]"
      ],
      "execution_count": 0,
      "outputs": []
    },
    {
      "cell_type": "code",
      "metadata": {
        "id": "mA9yn7zqhjjv",
        "colab_type": "code",
        "colab": {}
      },
      "source": [
        "def buildTrain(df_x, df_y, pastDay = 20):\n",
        "    list_x, list_y = [], []\n",
        "    for i in range(df_x.shape[0] - pastDay):\n",
        "        list_x.append(np.array(df_x.iloc[i:i + pastDay]))\n",
        "        list_y.append(np.array(df_y.iloc[i + pastDay - 1]))\n",
        "\n",
        "    return np.array(list_x), np.array(list_y)\n",
        "\n",
        "def df_to_dataset(dataframe, shuffle = True, batch_size = 32):\n",
        "    df = dataframe.copy()\n",
        "    df['Change'] = df.Close.shift(-3) - df.Close\n",
        "    labels = df.Change.apply(lambda x: 1 if x >= 20 else (2 if x <= -20 else 0))\n",
        "    df = df.drop(['Change'], axis = 1)\n",
        "    \n",
        "    df_norm = df.apply(lambda x: (x - np.mean(x)) / (np.max(x) - np.min(x)))\n",
        "    \n",
        "    df_x, df_y = buildTrain(df_norm, labels)\n",
        "    \n",
        "    df_y = tf.keras.utils.to_categorical(df_y, 3)\n",
        "       \n",
        "    ds = tf.data.Dataset.from_tensor_slices((df_x, df_y))\n",
        "    if shuffle:\n",
        "        ds = ds.shuffle(buffer_size = len(dataframe))\n",
        "    ds = ds.batch(batch_size)\n",
        "    \n",
        "    return ds, df_x, df_y\n",
        "\n",
        "\n",
        "batch_size = 200\n",
        "train_ds, _, _ = df_to_dataset(df_train, batch_size = batch_size)\n",
        "test_ds, test_x, test_y = df_to_dataset(df_test, shuffle = False, batch_size = batch_size)\n",
        "\n",
        "train_ds = train_ds.repeat()"
      ],
      "execution_count": 0,
      "outputs": []
    },
    {
      "cell_type": "code",
      "metadata": {
        "id": "0fZk_1n9oiI0",
        "colab_type": "code",
        "colab": {}
      },
      "source": [
        "AMOUNT = 1\n",
        "POINT_PRICE = 200\n",
        "FEES = 200\n",
        "\n",
        "OpenTime = 'open_time'\n",
        "OpenPrice = 'open_price'\n",
        "CloseTime = 'close_time'\n",
        "ClosePrice = 'close_price'\n",
        "Volume = 'volume'\n",
        "Side = 'side'\n",
        "Profit = 'profit'\n",
        "\n",
        "\n",
        "class Backtesting(object):\n",
        "    def __init__(self):\n",
        "        self.strike = {}\n",
        "        \n",
        "        self.last_signal = 'N'\n",
        "        self.has_pos = False\n",
        "\n",
        "\n",
        "    def Backtest(self, df, y_pred):\n",
        "        _df_test = df.reset_index()\n",
        "\n",
        "        _signal = pd.DataFrame(y_pred, columns = ['Signal']).shift(1)\n",
        "        \n",
        "        _df_test = pd.concat([_df_test, _signal], axis = 1).tail(-1)\n",
        "        \n",
        "        size = len(_df_test)\n",
        "        \n",
        "        self.detail = []\n",
        "        \n",
        "        for i in range(size):\n",
        "            self.Trading(_df_test.iloc[i])\n",
        "            \n",
        "        \n",
        "            \n",
        "        profit_list = [d[Profit] for d in self.detail]\n",
        "        profit = sum(profit_list)\n",
        "            \n",
        "        return profit\n",
        "            \n",
        "\n",
        "    def Trading(self, data):\n",
        "        _sig = data.Signal\n",
        "        if not self.has_pos:\n",
        "            if _sig == 1:\n",
        "                self.Record_Pos(data, 'buy')\n",
        "            elif _sig == 2:\n",
        "                self.Record_Pos(data, 'sell')\n",
        "        else:\n",
        "            if _sig == 1 and self.strike[Side] == 'sell':\n",
        "                self.Record_Detail(data)\n",
        "                self.Record_Pos(data, 'buy')\n",
        "            elif _sig == 2 and self.strike[Side] == 'buy':\n",
        "                self.Record_Detail(data)\n",
        "                self.Record_Pos(data, 'sell')\n",
        "\n",
        "\n",
        "    def Record_Pos(self, data, side):       \n",
        "        self.strike[OpenTime] = data.Time\n",
        "        self.strike[OpenPrice] = data.Open\n",
        "        self.strike[Volume] = AMOUNT\n",
        "        self.strike[Side] = side\n",
        "        self.has_pos = True\n",
        "        \n",
        "        \n",
        "    def Record_Detail(self, data):\n",
        "        self.strike[CloseTime] = data.Time\n",
        "        self.strike[ClosePrice] = data.Open\n",
        "        \n",
        "        if self.strike[Side] == 'buy':\n",
        "            self.strike[Profit] = (self.strike[ClosePrice] - self.strike[OpenPrice]) * POINT_PRICE - FEES\n",
        "        elif self.strike[Side] == 'sell':\n",
        "            self.strike[Profit] = (self.strike[OpenPrice] - self.strike[ClosePrice]) * POINT_PRICE - FEES\n",
        "            \n",
        "        self.detail.append(self.strike)\n",
        "        self.strike = {}\n",
        "        self.has_pos = False\n",
        "    \n",
        "\n",
        "    def Save_Detail(self, file_name):\n",
        "        if len(self.detail) > 0:\n",
        "            df_detail = pd.DataFrame(self.detail)\n",
        "            df_detail = df_detail[['open_time', 'open_price', 'volume', 'side', 'close_time', 'close_price', 'profit']]\n",
        "            df_detail.to_csv(file_name, index = False)\n",
        "        else:\n",
        "            print('No history details to save')"
      ],
      "execution_count": 0,
      "outputs": []
    },
    {
      "cell_type": "code",
      "metadata": {
        "id": "mN-wUkYMhlv2",
        "colab_type": "code",
        "colab": {}
      },
      "source": [
        "GRU_model = keras.Sequential(\n",
        "[\n",
        "    layers.GRU(20, input_shape = (20,11,)),\n",
        "    layers.Dense(20, activation = 'relu'),\n",
        "    layers.Dense(10, activation = 'relu'),\n",
        "    layers.Dense(3, activation = 'softmax')    \n",
        "])"
      ],
      "execution_count": 0,
      "outputs": []
    },
    {
      "cell_type": "code",
      "metadata": {
        "id": "DRLthkRxopNZ",
        "colab_type": "code",
        "colab": {}
      },
      "source": [
        "backtesting = Backtesting()\n",
        "LAST_PROFIT = 0\n",
        "\n",
        "for i in range(10):\n",
        "    GRU_model.compile(optimizer = 'adam', loss = 'categorical_crossentropy', metrics = ['accuracy'])\n",
        "    GRU_model.fit(train_ds, epochs = 10, steps_per_epoch = 100)\n",
        "\n",
        "    pred = GRU_model.predict(test_ds)\n",
        "\n",
        "    profit = backtesting.Backtest(df_test.tail(-20), backend.eval(tf.argmax(pred, axis = 1)))\n",
        "\n",
        "    if profit > LAST_PROFIT:\n",
        "        print('Profit: %f' % (profit))\n",
        "        model_name = './txf_1hr_gru_%s.h5' % i\n",
        "        detail_name = './detail_txf_1hr_gru_%s.csv' % i\n",
        "\n",
        "        GRU_model.save(model_name)\n",
        "        backtesting.Save_Detail(detail_name)\n",
        "\n",
        "        LAST_PROFIT = profit\n",
        "    \n",
        "    GRU_model.reset_states()"
      ],
      "execution_count": 0,
      "outputs": []
    },
    {
      "cell_type": "code",
      "metadata": {
        "id": "MDKTEpoZIc74",
        "colab_type": "code",
        "colab": {
          "base_uri": "https://localhost:8080/",
          "height": 286
        },
        "outputId": "342e42cb-3b1a-4376-ac49-108956dc8190"
      },
      "source": [
        "detail = pd.read_csv('detail_txf_1hr_gru_0.csv')\n",
        "\n",
        "cum_profit = detail['profit'].cumsum()\n",
        "\n",
        "cum_profit.plot()"
      ],
      "execution_count": 8,
      "outputs": [
        {
          "output_type": "execute_result",
          "data": {
            "text/plain": [
              "<matplotlib.axes._subplots.AxesSubplot at 0x7f7587e5d2b0>"
            ]
          },
          "metadata": {
            "tags": []
          },
          "execution_count": 8
        },
        {
          "output_type": "display_data",
          "data": {
            "image/png": "[encoded data removed]",
            "text/plain": [
              "<Figure size 432x288 with 1 Axes>"
            ]
          },
          "metadata": {
            "tags": []
          }
        }
      ]
    }
  ]
}