{
  "nbformat": 4,
  "nbformat_minor": 0,
  "metadata": {
    "colab": {
      "name": "GAN_cifar10.ipynb",
      "version": "0.3.2",
      "provenance": []
    },
    "kernelspec": {
      "name": "python3",
      "display_name": "Python 3"
    },
    "accelerator": "GPU"
  },
  "cells": [
    {
      "cell_type": "code",
      "metadata": {
        "id": "S-0NmmywFfOD",
        "colab_type": "code",
        "colab": {}
      },
      "source": [
        "import numpy as np\n",
        "import matplotlib.pyplot as plt\n",
        "import random\n",
        "\n",
        "import tensorflow as tf\n",
        "from tensorflow import keras\n",
        "from tensorflow.keras import layers\n",
        "from tensorflow.keras.optimizers import Adam\n",
        "\n",
        "from tensorflow.keras.layers import Input, Dense, Activation, Dropout, LeakyReLU, BatchNormalization\n",
        "from tensorflow.keras.layers import Conv2D, MaxPooling2D, UpSampling2D, Flatten, Reshape, ZeroPadding2D"
      ],
      "execution_count": 0,
      "outputs": []
    },
    {
      "cell_type": "code",
      "metadata": {
        "id": "6i4LGbqhFiiE",
        "colab_type": "code",
        "colab": {}
      },
      "source": [
        "(train_x, train_y), (test_x, test_y) = keras.datasets.cifar10.load_data()\n",
        "\n",
        "train_x = train_x / 255\n",
        "test_x = test_x / 255\n",
        "\n",
        "z_dim = 100\n",
        "width = 32\n",
        "height = 32\n",
        "channels = 3\n",
        "img_shape = (width, height, channels)"
      ],
      "execution_count": 0,
      "outputs": []
    },
    {
      "cell_type": "code",
      "metadata": {
        "id": "RmSeZVvZF4sp",
        "colab_type": "code",
        "colab": {}
      },
      "source": [
        "# Generator\n",
        "adam = Adam(lr=0.0002, beta_1=0.5)\n",
        "\n",
        "generator = keras.Sequential(\n",
        "[\n",
        "    Dense(128 * 8 * 8, activation = 'relu', input_dim = z_dim),\n",
        "    Reshape((8, 8, 128)),\n",
        "    UpSampling2D(),\n",
        "    Conv2D(128, kernel_size = 3, padding = 'same', activation = 'relu'),\n",
        "    BatchNormalization(),\n",
        "    UpSampling2D(),\n",
        "    Conv2D(64, kernel_size = 3, padding = 'same', activation = 'relu'),\n",
        "    BatchNormalization(),\n",
        "    Conv2D(3, kernel_size = 3, padding = 'same', activation = 'tanh')\n",
        "])\n",
        "\n",
        "# Discriminator\n",
        "discriminator = keras.Sequential(\n",
        "[\n",
        "    Conv2D(32, kernel_size = 3, strides = 2, input_shape = img_shape, padding = 'same'),\n",
        "    LeakyReLU(alpha = 0.2),\n",
        "    Conv2D(64, kernel_size = 3, strides = 2, padding = 'same'),\n",
        "    BatchNormalization(momentum = 0.8),\n",
        "    LeakyReLU(alpha = 0.2),\n",
        "    Conv2D(128, kernel_size = 3, strides = 2, padding = 'same'),\n",
        "    BatchNormalization(momentum = 0.8),\n",
        "    LeakyReLU(alpha = 0.2),\n",
        "    Conv2D(256, kernel_size = 3, strides = 1, padding = 'same'),\n",
        "    BatchNormalization(momentum = 0.8),\n",
        "    LeakyReLU(alpha = 0.2),\n",
        "    Flatten(),\n",
        "    Dense(1, activation = 'sigmoid')\n",
        "])\n",
        "\n",
        "generator.compile(loss = 'binary_crossentropy', optimizer = adam, metrics = ['accuracy'])\n",
        "generator.summary()\n",
        "discriminator.compile(loss = 'binary_crossentropy', optimizer = adam, metrics = ['accuracy'])\n",
        "discriminator.summary()\n",
        "\n",
        "discriminator.trainable = False\n",
        "\n",
        "inputs = Input(shape = (z_dim,))\n",
        "hidden = generator(inputs)\n",
        "output = discriminator(hidden)\n",
        "gan = keras.Model(inputs, output)\n",
        "gan.compile(loss = 'binary_crossentropy', optimizer = adam)"
      ],
      "execution_count": 0,
      "outputs": []
    },
    {
      "cell_type": "code",
      "metadata": {
        "id": "3Cskp7TCGGh5",
        "colab_type": "code",
        "colab": {}
      },
      "source": [
        "def plot_generated(n_ex = 5, dim = (1, 5), figsize = (12, 2)):\n",
        "    noise = np.random.normal(0, 1, size = (n_ex, z_dim))\n",
        "    generated_images = generator.predict(noise)\n",
        "    generated_images = generated_images.reshape(generated_images.shape[0], width, height, channels)\n",
        "    plt.figure(figsize = figsize)\n",
        "    for i in range(generated_images.shape[0]):\n",
        "        plt.subplot(dim[0], dim[1], i+1)\n",
        "        plt.imshow(generated_images[i, :, :], interpolation = 'nearest', cmap = 'gray_r')\n",
        "        plt.axis('off')\n",
        "    plt.tight_layout()\n",
        "    plt.show()"
      ],
      "execution_count": 0,
      "outputs": []
    },
    {
      "cell_type": "code",
      "metadata": {
        "id": "tLl3ZaTQGWv4",
        "colab_type": "code",
        "colab": {}
      },
      "source": [
        "def train(epochs = 20000, plt_frq = 5000, batch_size = 128):\n",
        "    print('Epochs:', epochs)\n",
        "    print('Batch size:', batch_size)\n",
        "    \n",
        "    valid = np.ones((batch_size, 1))\n",
        "    fake = np.zeros((batch_size, 1))\n",
        "    \n",
        "    for e in range(1, epochs + 1):\n",
        "        if e == 1 or e%plt_frq == 0:\n",
        "            print('-----------', 'Epoch %d' % e, '-----------')\n",
        "        \n",
        "        idx = np.random.randint(0, train_x.shape[0], batch_size)\n",
        "        imgs = train_x[idx]\n",
        "\n",
        "        # Sample noise and generate a batch of new images\n",
        "        noise = np.random.normal(0, 1, (batch_size, 100))\n",
        "        gen_imgs = generator.predict(noise)\n",
        "\n",
        "        # Train the discriminator\n",
        "        discriminator.trainable = True\n",
        "        d_loss_real = discriminator.train_on_batch(imgs, valid)\n",
        "        d_loss_fake = discriminator.train_on_batch(gen_imgs, fake)\n",
        "        d_loss = 0.5 * np.add(d_loss_real, d_loss_fake)\n",
        "\n",
        "        # Train the generator\n",
        "        discriminator.trainable = False\n",
        "        g_loss = gan.train_on_batch(noise, valid)\n",
        "        \n",
        "        \n",
        "        # Update the plots\n",
        "        if e == 1 or e%plt_frq == 0:\n",
        "            print('%d [D loss: %f, acc.: %.2f%%] [G loss: %f]' % (e, d_loss[0], 100*d_loss[1], g_loss))\n",
        "            plot_generated()"
      ],
      "execution_count": 0,
      "outputs": []
    },
    {
      "cell_type": "code",
      "metadata": {
        "id": "UpQHi1IgGdJi",
        "colab_type": "code",
        "colab": {}
      },
      "source": [
        "train()"
      ],
      "execution_count": 0,
      "outputs": []
    }
  ]
}