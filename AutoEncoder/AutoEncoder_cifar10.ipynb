{
  "nbformat": 4,
  "nbformat_minor": 0,
  "metadata": {
    "colab": {
      "name": "AutoEncoder_cifar10.ipynb",
      "version": "0.3.2",
      "provenance": []
    },
    "kernelspec": {
      "name": "python3",
      "display_name": "Python 3"
    },
    "accelerator": "GPU"
  },
  "cells": [
    {
      "cell_type": "code",
      "metadata": {
        "id": "COicnkpVwLvC",
        "colab_type": "code",
        "colab": {}
      },
      "source": [
        "import numpy as np\n",
        "import tensorflow as tf\n",
        "from tensorflow import keras\n",
        "from tensorflow.keras import layers\n",
        "import matplotlib.pyplot as plt\n",
        "\n",
        "\n",
        "((train_x, train_label), (test_x, test_label)) = keras.datasets.cifar10.load_data()\n",
        "\n",
        "img_rows = train_x.shape[1]\n",
        "img_cols = train_x.shape[2]\n",
        "channels = train_x.shape[3]\n",
        "\n",
        "train_x = train_x.astype('float32') / 255.\n",
        "test_x = test_x.astype('float32') / 255.\n",
        "\n",
        "# train_x = np.reshape(train_x, (len(train_x), img_rows, img_cols, channels))\n",
        "# test_x = np.reshape(test_x, (len(test_x), img_rows, img_cols, channels))"
      ],
      "execution_count": 0,
      "outputs": []
    },
    {
      "cell_type": "markdown",
      "metadata": {
        "id": "IQBvgzIUCC8b",
        "colab_type": "text"
      },
      "source": [
        "Build Model & Train Model"
      ]
    },
    {
      "cell_type": "code",
      "metadata": {
        "id": "8cTwSJXDwQG9",
        "colab_type": "code",
        "colab": {}
      },
      "source": [
        "input_img = layers.Input(shape=(img_rows, img_cols, channels))\n",
        "\n",
        "x = layers.Conv2D(16, (3, 3), activation = 'relu', padding = 'same')(input_img)\n",
        "x = layers.MaxPool2D((2, 2), padding = 'same')(x)\n",
        "x = layers.Conv2D(8, (3, 3), activation = 'relu', padding = 'same')(x)\n",
        "x = layers.MaxPool2D((2, 2), padding = 'same')(x)\n",
        "x = layers.Conv2D(8, (3, 3), activation = 'relu', padding = 'same')(x)\n",
        "encoded = layers.MaxPool2D((2, 2), padding = 'same')(x)\n",
        "\n",
        "x = layers.Conv2D(8, (3, 3), activation = 'relu', padding = 'same')(encoded)\n",
        "x = layers.UpSampling2D((2, 2))(x)\n",
        "x = layers.Conv2D(8, (3, 3), activation = 'relu', padding = 'same')(x)\n",
        "x = layers.UpSampling2D((2, 2))(x)\n",
        "x = layers.Conv2D(16, (3, 3), activation = 'relu', padding = 'same')(x)\n",
        "x = layers.UpSampling2D((2, 2))(x)\n",
        "decoded = layers.Conv2D(3, (3, 3), activation = 'sigmoid', padding = 'same')(x)\n",
        "\n",
        "auto_encoder = keras.Model(input_img, decoded)\n",
        "\n",
        "auto_encoder.compile(optimizer = 'adam', \n",
        "                 loss = 'binary_crossentropy')\n",
        "\n",
        "auto_encoder.fit(train_x, train_x,\n",
        "                 epochs = 50,\n",
        "                 batch_size = 100,\n",
        "                 shuffle = True,\n",
        "                 validation_data = (test_x, test_x))\n"
      ],
      "execution_count": 0,
      "outputs": []
    },
    {
      "cell_type": "markdown",
      "metadata": {
        "id": "fMuYxlgFA81E",
        "colab_type": "text"
      },
      "source": [
        "Plot orignal and decoded data"
      ]
    },
    {
      "cell_type": "code",
      "metadata": {
        "id": "zDqjWogfAHHP",
        "colab_type": "code",
        "colab": {}
      },
      "source": [
        "decoded_imgs = auto_encoder.predict(test_x)\n",
        "\n",
        "n = 10\n",
        "plt.figure(figsize=(20, 4))\n",
        "for i in range(n):\n",
        "    # display original\n",
        "    ax = plt.subplot(2, n, i + 1)\n",
        "    plt.imshow(test_x[i].reshape(img_rows, img_cols, channels))\n",
        "    plt.gray()\n",
        "    ax.get_xaxis().set_visible(False)\n",
        "    ax.get_yaxis().set_visible(False)\n",
        "\n",
        "    # display reconstruction\n",
        "    ax = plt.subplot(2, n, i + n + 1)\n",
        "    plt.imshow(decoded_imgs[i].reshape(img_rows, img_cols, channels))\n",
        "    plt.gray()\n",
        "    ax.get_xaxis().set_visible(False)\n",
        "    ax.get_yaxis().set_visible(False)\n",
        "plt.show()"
      ],
      "execution_count": 0,
      "outputs": []
    },
    {
      "cell_type": "markdown",
      "metadata": {
        "id": "w6RpSGtwBBkl",
        "colab_type": "text"
      },
      "source": [
        "Plot encoded data"
      ]
    },
    {
      "cell_type": "code",
      "metadata": {
        "id": "fDeyM7DyAQdm",
        "colab_type": "code",
        "colab": {}
      },
      "source": [
        "encoder = keras.Model(inputs = input_img, outputs = encoded)\n",
        "encoded_imgs = encoder.predict(test_x)\n",
        "\n",
        "### plot encoded data ###\n",
        "n = 10\n",
        "plt.figure(figsize=(20, 8))\n",
        "for i in range(n):\n",
        "    ax = plt.subplot(1, n, i + 1)\n",
        "    plt.imshow(encoded_imgs[i].reshape(4, 4 * 8).T)\n",
        "    plt.gray()\n",
        "    ax.get_xaxis().set_visible(False)\n",
        "    ax.get_yaxis().set_visible(False)\n",
        "plt.show()"
      ],
      "execution_count": 0,
      "outputs": []
    }
  ]
}