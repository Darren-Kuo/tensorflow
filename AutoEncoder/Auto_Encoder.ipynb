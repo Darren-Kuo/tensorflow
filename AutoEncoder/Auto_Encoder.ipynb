{
  "nbformat": 4,
  "nbformat_minor": 0,
  "metadata": {
    "colab": {
      "name": "Auto_Encoder.ipynb",
      "version": "0.3.2",
      "provenance": []
    },
    "kernelspec": {
      "name": "python3",
      "display_name": "Python 3"
    },
    "accelerator": "GPU"
  },
  "cells": [
    {
      "cell_type": "markdown",
      "metadata": {
        "id": "iYSJy-LO2QsC",
        "colab_type": "text"
      },
      "source": [
        "Simple Auto Encoder"
      ]
    },
    {
      "cell_type": "code",
      "metadata": {
        "id": "VilSvNv21pQR",
        "colab_type": "code",
        "colab": {}
      },
      "source": [
        "import tensorflow as tf\n",
        "import matplotlib.pyplot as plt\n",
        "import tensorflow.keras as keras\n",
        "import tensorflow.keras.layers as layers\n",
        "\n",
        "\n",
        "### loading data ###\n",
        "(x_train, y_train), (x_test, y_test) = keras.datasets.mnist.load_data()\n",
        "\n",
        "x_train = x_train.reshape((-1, 28*28)) / 255.0\n",
        "x_test = x_test.reshape((-1, 28*28)) / 255.0"
      ],
      "execution_count": 0,
      "outputs": []
    },
    {
      "cell_type": "markdown",
      "metadata": {
        "id": "6QqTG3xnCoHL",
        "colab_type": "text"
      },
      "source": [
        "Build Model & Train Model"
      ]
    },
    {
      "cell_type": "code",
      "metadata": {
        "id": "tzxthqjLCnm8",
        "colab_type": "code",
        "colab": {}
      },
      "source": [
        "code_dim = 32\n",
        "auto_encoder = keras.Sequential(\n",
        "[\n",
        "    layers.Dense(code_dim, input_shape = (x_train.shape[1],), activation = 'relu', name = 'encode'),\n",
        "    layers.Dense(x_train.shape[1], activation = 'softmax', name = 'output')\n",
        "])\n",
        "\n",
        "encoder_input = layers.Input(shape = (x_train.shape[1],))\n",
        "encoder_output = auto_encoder.get_layer('encode')(encoder_input)\n",
        "encoder = keras.Model(encoder_input, encoder_output)\n",
        "\n",
        "decoder_input = keras.Input((code_dim,))\n",
        "decoder_output = auto_encoder.get_layer('output')(decoder_input)\n",
        "decoder = keras.Model(decoder_input, decoder_output)\n",
        "\n",
        "auto_encoder.compile(optimizer = 'adam', loss = 'binary_crossentropy')\n",
        "\n",
        "history = auto_encoder.fit(x_train, x_train, batch_size = 256, epochs = 5, validation_split = 0.1)\n",
        "\n",
        "encoded = encoder.predict(x_test)\n",
        "decoded = decoder.predict(encoded)"
      ],
      "execution_count": 0,
      "outputs": []
    },
    {
      "cell_type": "markdown",
      "metadata": {
        "id": "lNAcRxt6CthB",
        "colab_type": "text"
      },
      "source": [
        "Plot orignal and decoded data"
      ]
    },
    {
      "cell_type": "code",
      "metadata": {
        "id": "pv1hioRN_kT0",
        "colab_type": "code",
        "colab": {}
      },
      "source": [
        "plt.figure(figsize=(10,4))\n",
        "\n",
        "n = 5\n",
        "for i in range(n):\n",
        "    ax = plt.subplot(2, n, i+1)\n",
        "    plt.imshow(x_test[i].reshape(28,28))\n",
        "    plt.gray()\n",
        "    ax.get_xaxis().set_visible(False)\n",
        "    ax.get_yaxis().set_visible(False)\n",
        "\n",
        "    ax = plt.subplot(2, n, n+i+1)\n",
        "    plt.imshow(decoded[i].reshape(28,28))\n",
        "    plt.gray()\n",
        "    ax.get_xaxis().set_visible(False)\n",
        "    ax.get_yaxis().set_visible(False)\n",
        "plt.show()"
      ],
      "execution_count": 0,
      "outputs": []
    },
    {
      "cell_type": "markdown",
      "metadata": {
        "id": "t0jwMNHw2uu0",
        "colab_type": "text"
      },
      "source": [
        "Auto Encoder with CNN"
      ]
    },
    {
      "cell_type": "code",
      "metadata": {
        "id": "TVNsi1iYfxNe",
        "colab_type": "code",
        "colab": {}
      },
      "source": [
        "import numpy as np\n",
        "import tensorflow as tf\n",
        "from tensorflow import keras\n",
        "from tensorflow.keras import layers\n",
        "import matplotlib.pyplot as plt\n",
        "\n",
        "(train_x, train_y), (test_x, test_y) = keras.datasets.mnist.load_data()\n",
        "\n",
        "train_x = train_x.astype('float32') / 255.\n",
        "test_x = test_x.astype('float32') / 255.\n",
        "train_x = np.reshape(train_x, (len(train_x), 28, 28, 1))\n",
        "test_x = np.reshape(test_x, (len(test_x), 28, 28, 1))"
      ],
      "execution_count": 0,
      "outputs": []
    },
    {
      "cell_type": "markdown",
      "metadata": {
        "id": "5nO9ra7_C8iZ",
        "colab_type": "text"
      },
      "source": [
        "Build Model & Train Model"
      ]
    },
    {
      "cell_type": "code",
      "metadata": {
        "id": "XygckxBG6njr",
        "colab_type": "code",
        "colab": {}
      },
      "source": [
        "input_img = layers.Input(shape=(28, 28, 1))\n",
        "\n",
        "x = layers.Conv2D(16, (3, 3), activation = 'relu', padding = 'same')(input_img)\n",
        "x = layers.MaxPool2D((2, 2), padding = 'same')(x)\n",
        "x = layers.Conv2D(8, (3, 3), activation = 'relu', padding = 'same')(x)\n",
        "x = layers.MaxPool2D((2, 2), padding = 'same')(x)\n",
        "x = layers.Conv2D(8, (3, 3), activation = 'relu', padding = 'same')(x)\n",
        "encoded = layers.MaxPool2D((2, 2), padding = 'same')(x)\n",
        "\n",
        "x = layers.Conv2D(8, (3, 3), activation = 'relu', padding = 'same')(encoded)\n",
        "x = layers.UpSampling2D((2, 2))(x)\n",
        "x = layers.Conv2D(8, (3, 3), activation = 'relu', padding = 'same')(x)\n",
        "x = layers.UpSampling2D((2, 2))(x)\n",
        "x = layers.Conv2D(16, (3, 3), activation = 'relu')(x)\n",
        "x = layers.UpSampling2D((2, 2))(x)\n",
        "decoded = layers.Conv2D(1, (3, 3), activation = 'sigmoid', padding = 'same')(x)\n",
        "\n",
        "cnn_autoencoder = keras.Model(input_img, decoded)\n",
        "\n",
        "# cnn_autoencoder.summary()\n",
        "cnn_autoencoder.compile(optimizer = 'adam', loss = 'binary_crossentropy', metrics=['accuracy'])\n",
        "\n",
        "cnn_autoencoder.fit(train_x, train_x,\n",
        "                    epochs = 5,\n",
        "                    batch_size = 128,\n",
        "                    shuffle = True,\n",
        "                    validation_data = (test_x, test_x))"
      ],
      "execution_count": 0,
      "outputs": []
    },
    {
      "cell_type": "code",
      "metadata": {
        "id": "TsIuL0Wi9MWM",
        "colab_type": "code",
        "colab": {}
      },
      "source": [
        "### plot orignal data and decoded data ###\n",
        "\n",
        "decoded_imgs = cnn_autoencoder.predict(test_x)\n",
        "\n",
        "n = 10\n",
        "plt.figure(figsize=(20, 4))\n",
        "for i in range(n):\n",
        "    # display original\n",
        "    ax = plt.subplot(2, n, i + 1)\n",
        "    plt.imshow(test_x[i+20].reshape(28, 28))\n",
        "    plt.gray()\n",
        "    ax.get_xaxis().set_visible(False)\n",
        "    ax.get_yaxis().set_visible(False)\n",
        "\n",
        "    # display reconstruction\n",
        "    ax = plt.subplot(2, n, i + n + 1)\n",
        "    plt.imshow(decoded_imgs[i+20].reshape(28, 28))\n",
        "    plt.gray()\n",
        "    ax.get_xaxis().set_visible(False)\n",
        "    ax.get_yaxis().set_visible(False)\n",
        "plt.show()"
      ],
      "execution_count": 0,
      "outputs": []
    },
    {
      "cell_type": "code",
      "metadata": {
        "id": "i3V0nygfSvN1",
        "colab_type": "code",
        "colab": {}
      },
      "source": [
        "encoder = keras.Model(inputs = input_img, outputs = encoded)\n",
        "encoded_imgs = encoder.predict(test_x)"
      ],
      "execution_count": 0,
      "outputs": []
    },
    {
      "cell_type": "code",
      "metadata": {
        "id": "q4fkIQrJ_MDZ",
        "colab_type": "code",
        "colab": {}
      },
      "source": [
        "### plot encoded data ###\n",
        "n = 10\n",
        "plt.figure(figsize=(20, 8))\n",
        "for i in range(n):\n",
        "    ax = plt.subplot(1, n, i + 1)\n",
        "    plt.imshow(encoded_imgs[i].reshape(4, 4 * 8).T)\n",
        "    plt.gray()\n",
        "    ax.get_xaxis().set_visible(False)\n",
        "    ax.get_yaxis().set_visible(False)\n",
        "plt.show()"
      ],
      "execution_count": 0,
      "outputs": []
    }
  ]
}