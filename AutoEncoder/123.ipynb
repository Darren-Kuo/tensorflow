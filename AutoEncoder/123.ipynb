{
  "nbformat": 4,
  "nbformat_minor": 0,
  "metadata": {
    "colab": {
      "name": "Encoder.ipynb",
      "version": "0.3.2",
      "provenance": []
    },
    "kernelspec": {
      "name": "python3",
      "display_name": "Python 3"
    },
    "accelerator": "TPU"
  },
  "cells": [
    {
      "cell_type": "markdown",
      "metadata": {
        "id": "iYSJy-LO2QsC",
        "colab_type": "text"
      },
      "source": [
        "Simple Auto Encoder"
      ]
    },
    {
      "cell_type": "code",
      "metadata": {
        "id": "VilSvNv21pQR",
        "colab_type": "code",
        "colab": {}
      },
      "source": [
        "import tensorflow as tf\n",
        "import matplotlib.pyplot as plt\n",
        "import tensorflow.keras as keras\n",
        "import tensorflow.keras.layers as layers\n",
        "# from IPython.display import SVG\n",
        "\n",
        "### loading data ###\n",
        "(x_train, y_train), (x_test, y_test) = keras.datasets.mnist.load_data()\n",
        "\n",
        "x_train = x_train.reshape((-1, 28*28)) / 255.0\n",
        "x_test = x_test.reshape((-1, 28*28)) / 255.0\n",
        "\n",
        "\n",
        "### build model ###\n",
        "code_dim = 32\n",
        "auto_encoder = keras.Sequential(\n",
        "[\n",
        "    layers.Dense(code_dim, input_shape = (x_train.shape[1],), activation = 'relu', name = 'encode'),\n",
        "    layers.Dense(x_train.shape[1], activation = 'softmax', name = 'output')\n",
        "])\n",
        "\n",
        "encoder_input = layers.Input(shape = (x_train.shape[1],))\n",
        "encoder_output = auto_encoder.get_layer('encode')(encoder_input)\n",
        "encoder = keras.Model(encoder_input, encoder_output)\n",
        "\n",
        "decoder_input = keras.Input((code_dim,))\n",
        "decoder_output = auto_encoder.get_layer('output')(decoder_input)\n",
        "decoder = keras.Model(decoder_input, decoder_output)\n",
        "\n",
        "auto_encoder.compile(optimizer = 'adam', loss = 'binary_crossentropy')\n",
        "\n",
        "history = auto_encoder.fit(x_train, x_train, batch_size = 256, epochs = 5, validation_split = 0.1)\n",
        "\n",
        "encoded = encoder.predict(x_test)\n",
        "decoded = decoder.predict(encoded)"
      ],
      "execution_count": 0,
      "outputs": []
    },
    {
      "cell_type": "code",
      "metadata": {
        "id": "pv1hioRN_kT0",
        "colab_type": "code",
        "outputId": "6fea13c9-2135-446f-9384-de9d755c8235",
        "colab": {
          "base_uri": "https://localhost:8080/",
          "height": 247
        }
      },
      "source": [
        "### plot orignal data and decoded data ###\n",
        "plt.figure(figsize=(10,4))\n",
        "\n",
        "n = 5\n",
        "for i in range(n):\n",
        "    ax = plt.subplot(2, n, i+1)\n",
        "    plt.imshow(x_test[i].reshape(28,28))\n",
        "#     plt.imshow(tf.reshape(x_test[i],(28,28)))\n",
        "    plt.gray()\n",
        "    ax.get_xaxis().set_visible(False)\n",
        "    ax.get_yaxis().set_visible(False)\n",
        "\n",
        "    ax = plt.subplot(2, n, n+i+1)\n",
        "    plt.imshow(decoded[i].reshape(28,28))\n",
        "#     plt.imshow(tf.reshape(decoded[i],(28,28)))\n",
        "    plt.gray()\n",
        "    ax.get_xaxis().set_visible(False)\n",
        "    ax.get_yaxis().set_visible(False)\n",
        "plt.show()"
      ],
      "execution_count": 5,
      "outputs": [
        {
          "output_type": "display_data",
          "data": {
            "image/png": "[encoded data removed]",
            "text/plain": [
              "<Figure size 720x288 with 10 Axes>"
            ]
          },
          "metadata": {
            "tags": []
          }
        }
      ]
    },
    {
      "cell_type": "markdown",
      "metadata": {
        "id": "t0jwMNHw2uu0",
        "colab_type": "text"
      },
      "source": [
        "Auto Encoder with CNN"
      ]
    },
    {
      "cell_type": "code",
      "metadata": {
        "id": "TVNsi1iYfxNe",
        "colab_type": "code",
        "colab": {}
      },
      "source": [
        "import tensorflow as tf\n",
        "import tensorflow.keras as keras\n",
        "import tensorflow.keras.layers as layers"
      ],
      "execution_count": 0,
      "outputs": []
    }
  ]
}
